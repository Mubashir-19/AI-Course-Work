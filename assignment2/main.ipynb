{
 "cells": [
  {
   "cell_type": "code",
   "execution_count": 43,
   "metadata": {},
   "outputs": [
    {
     "name": "stdout",
     "output_type": "stream",
     "text": [
      "<bound method NDFrame.first of      gender     race   parents_education         lunch test_prep_course  \\\n",
      "0    female  group B   bachelor's degree      standard             none   \n",
      "1    female  group C        some college      standard        completed   \n",
      "2    female  group B     master's degree      standard             none   \n",
      "3      male  group A  associate's degree  free/reduced             none   \n",
      "4      male  group C        some college      standard             none   \n",
      "..      ...      ...                 ...           ...              ...   \n",
      "995  female  group E     master's degree      standard        completed   \n",
      "996    male  group C         high school  free/reduced             none   \n",
      "997  female  group C         high school  free/reduced        completed   \n",
      "998  female  group D        some college      standard        completed   \n",
      "999  female  group D        some college  free/reduced             none   \n",
      "\n",
      "     math_score  reading_score  writing_score  \n",
      "0            72             72             74  \n",
      "1            69             90             88  \n",
      "2            90             95             93  \n",
      "3            47             57             44  \n",
      "4            76             78             75  \n",
      "..          ...            ...            ...  \n",
      "995          88             99             95  \n",
      "996          62             55             55  \n",
      "997          59             71             65  \n",
      "998          68             78             77  \n",
      "999          77             86             86  \n",
      "\n",
      "[1000 rows x 8 columns]>\n"
     ]
    }
   ],
   "source": [
    "import pandas as pd\n",
    "import numpy as np\n",
    "\n",
    "# Load the dataset into a pandas DataFrame\n",
    "data = pd.read_csv(\"StudentsPerformance.csv\")\n",
    "data[\"math_score\"] = pd.to_numeric(data[\"math_score\"])\n",
    "data[\"reading_score\"] = pd.to_numeric(data[\"reading_score\"])\n",
    "data[\"writing_score\"] = pd.to_numeric(data[\"writing_score\"])\n",
    "# Display the first few rows of the DataFrame\n",
    "print(data.first)"
   ]
  },
  {
   "cell_type": "code",
   "execution_count": 48,
   "metadata": {},
   "outputs": [
    {
     "name": "stdout",
     "output_type": "stream",
     "text": [
      "<class 'pandas.core.frame.DataFrame'>\n",
      "RangeIndex: 1000 entries, 0 to 999\n",
      "Data columns (total 8 columns):\n",
      " #   Column             Non-Null Count  Dtype \n",
      "---  ------             --------------  ----- \n",
      " 0   gender             1000 non-null   object\n",
      " 1   race               1000 non-null   object\n",
      " 2   parents_education  1000 non-null   object\n",
      " 3   lunch              1000 non-null   object\n",
      " 4   test_prep_course   1000 non-null   object\n",
      " 5   math_score         1000 non-null   int64 \n",
      " 6   reading_score      1000 non-null   int64 \n",
      " 7   writing_score      1000 non-null   int64 \n",
      "dtypes: int64(3), object(5)\n",
      "memory usage: 62.6+ KB\n"
     ]
    }
   ],
   "source": [
    "data.info()"
   ]
  },
  {
   "cell_type": "code",
   "execution_count": 40,
   "metadata": {},
   "outputs": [
    {
     "data": {
      "text/plain": [
       "(1000, 8)"
      ]
     },
     "execution_count": 40,
     "metadata": {},
     "output_type": "execute_result"
    }
   ],
   "source": [
    "data.shape"
   ]
  },
  {
   "cell_type": "code",
   "execution_count": 41,
   "metadata": {},
   "outputs": [
    {
     "data": {
      "text/plain": [
       "Index(['gender', 'race', 'parents_education', 'lunch', 'test_prep_course',\n",
       "       'math_score', 'reading_score', 'writing_score'],\n",
       "      dtype='object')"
      ]
     },
     "execution_count": 41,
     "metadata": {},
     "output_type": "execute_result"
    }
   ],
   "source": [
    "data.columns"
   ]
  },
  {
   "cell_type": "code",
   "execution_count": 17,
   "metadata": {},
   "outputs": [
    {
     "name": "stdout",
     "output_type": "stream",
     "text": [
      "Missing Values:\n",
      "gender               0\n",
      "race                 0\n",
      "parents_education    0\n",
      "lunch                0\n",
      "test_prep_course     0\n",
      "math_score           0\n",
      "reading_score        0\n",
      "writing_score        0\n",
      "dtype: int64\n"
     ]
    }
   ],
   "source": [
    "# Check for missing values\n",
    "print(\"Missing Values:\")\n",
    "print(data.isnull().sum())"
   ]
  },
  {
   "cell_type": "code",
   "execution_count": 18,
   "metadata": {},
   "outputs": [
    {
     "name": "stdout",
     "output_type": "stream",
     "text": [
      "\n",
      "Duplicates:\n",
      "0\n"
     ]
    }
   ],
   "source": [
    "print(\"\\nDuplicates:\")\n",
    "print(data.duplicated().sum())"
   ]
  },
  {
   "cell_type": "code",
   "execution_count": 33,
   "metadata": {},
   "outputs": [
    {
     "name": "stdout",
     "output_type": "stream",
     "text": [
      "\n",
      "Overall Scores Statistics:\n",
      "        math_score  reading_score  writing_score\n",
      "count  1000.00000    1000.000000    1000.000000\n",
      "mean     66.08900      69.169000      68.054000\n",
      "std      15.16308      14.600192      15.195657\n",
      "min       0.00000      17.000000      10.000000\n",
      "25%      57.00000      59.000000      57.750000\n",
      "50%      66.00000      70.000000      69.000000\n",
      "75%      77.00000      79.000000      79.000000\n",
      "max     100.00000     100.000000     100.000000\n"
     ]
    }
   ],
   "source": [
    "# Overall Performance Analysis\n",
    "overall_scores_stats = data.describe()\n",
    "print(\"\\nOverall Scores Statistics:\\n\", overall_scores_stats)"
   ]
  },
  {
   "cell_type": "code",
   "execution_count": 44,
   "metadata": {},
   "outputs": [
    {
     "name": "stdout",
     "output_type": "stream",
     "text": [
      "There are no rows where any score is greater than 100.\n"
     ]
    }
   ],
   "source": [
    "# Check if any score is greater than 100\n",
    "scores_greater_than_100 = (data.iloc[:, 5:] > 100).any(axis=1)\n",
    "\n",
    "# Print rows where any score is greater than 100\n",
    "rows_greater_than_100 = data[scores_greater_than_100]\n",
    "if not rows_greater_than_100.empty:\n",
    "    print(\"Rows where any score is greater than 100:\")\n",
    "    print(rows_greater_than_100)\n",
    "else:\n",
    "    print(\"There are no rows where any score is greater than 100.\")"
   ]
  },
  {
   "cell_type": "markdown",
   "metadata": {},
   "source": [
    "Are there any significant differences in academic performance between male and female students?"
   ]
  },
  {
   "cell_type": "code",
   "execution_count": 29,
   "metadata": {},
   "outputs": [
    {
     "name": "stdout",
     "output_type": "stream",
     "text": [
      "\n",
      "Gender Scores:\n",
      "\n",
      "\n",
      "         math_score  reading_score  writing_score\n",
      "gender                                          \n",
      "female   63.633205      72.608108      72.467181\n",
      "male     68.728216      65.473029      63.311203\n"
     ]
    }
   ],
   "source": [
    "gender_scores = data.groupby('gender')[['math_score', 'reading_score', 'writing_score']].mean()\n",
    "print(\"\\nGender Scores:\\n\\n\\n\", gender_scores)"
   ]
  },
  {
   "cell_type": "code",
   "execution_count": 47,
   "metadata": {},
   "outputs": [
    {
     "name": "stdout",
     "output_type": "stream",
     "text": [
      "\n",
      "Parental Education Scores:\n",
      "                     math_score  reading_score  writing_score\n",
      "parents_education                                           \n",
      "associate's degree   67.882883      70.927928      69.896396\n",
      "bachelor's degree    69.389831      73.000000      73.381356\n",
      "high school          62.137755      64.704082      62.448980\n",
      "master's degree      69.745763      75.372881      75.677966\n",
      "some college         67.128319      69.460177      68.840708\n",
      "some high school     63.497207      66.938547      64.888268\n"
     ]
    }
   ],
   "source": [
    "# Parental Education Influence\n",
    "parental_education_scores = data.groupby('parents_education')[['math_score', 'reading_score', 'writing_score']].mean()\n",
    "print(\"\\nParental Education Scores:\\n\", parental_education_scores)"
   ]
  },
  {
   "cell_type": "code",
   "execution_count": 50,
   "metadata": {},
   "outputs": [
    {
     "name": "stdout",
     "output_type": "stream",
     "text": [
      "\n",
      "Test Preparation Scores:\n",
      "                   math_score  reading_score  writing_score\n",
      "test_prep_course                                          \n",
      "completed          69.695531      73.893855      74.418994\n",
      "none               64.077882      66.534268      64.504673\n"
     ]
    }
   ],
   "source": [
    "# Test Preparation Course Impact\n",
    "test_prep_scores = data.groupby('test_prep_course')[['math_score', 'reading_score', 'writing_score']].mean()\n",
    "print(\"\\nTest Preparation Scores:\\n\", test_prep_scores)"
   ]
  },
  {
   "cell_type": "code",
   "execution_count": 51,
   "metadata": {},
   "outputs": [
    {
     "name": "stdout",
     "output_type": "stream",
     "text": [
      "\n",
      "Correlation Matrix:\n",
      "                math_score  reading_score  writing_score\n",
      "math_score       1.000000       0.817580       0.802642\n",
      "reading_score    0.817580       1.000000       0.954598\n",
      "writing_score    0.802642       0.954598       1.000000\n"
     ]
    }
   ],
   "source": [
    "# Correlation Analysis\n",
    "correlation_matrix = data[['math_score', 'reading_score', 'writing_score']].corr()\n",
    "print(\"\\nCorrelation Matrix:\\n\", correlation_matrix)"
   ]
  },
  {
   "cell_type": "code",
   "execution_count": 52,
   "metadata": {},
   "outputs": [
    {
     "name": "stdout",
     "output_type": "stream",
     "text": [
      "\n",
      "Race Scores:\n",
      "          math_score  reading_score  writing_score\n",
      "race                                             \n",
      "group A   61.629213      64.674157      62.674157\n",
      "group B   63.452632      67.352632      65.600000\n",
      "group C   64.463950      69.103448      67.827586\n",
      "group D   67.362595      70.030534      70.145038\n",
      "group E   73.821429      73.028571      71.407143\n"
     ]
    }
   ],
   "source": [
    "# Race/Ethnicity Impact\n",
    "race_scores = data.groupby('race')[['math_score', 'reading_score', 'writing_score']].mean()\n",
    "print(\"\\nRace Scores:\\n\", race_scores)"
   ]
  },
  {
   "cell_type": "code",
   "execution_count": 55,
   "metadata": {},
   "outputs": [
    {
     "name": "stdout",
     "output_type": "stream",
     "text": [
      "                 math_score                       reading_score      \\\n",
      "                        max min       mean median           max min   \n",
      "test_prep_course                                                      \n",
      "completed               100  23  69.695531   69.0           100  37   \n",
      "none                    100   0  64.077882   64.0           100  17   \n",
      "\n",
      "                                   writing_score                        \n",
      "                       mean median           max min       mean median  \n",
      "test_prep_course                                                        \n",
      "completed         73.893855   75.0           100  36  74.418994   76.0  \n",
      "none              66.534268   67.0           100  10  64.504673   65.0  \n"
     ]
    }
   ],
   "source": [
    "# comparison of students who completed the preperation course and who did'nt\n",
    "\n",
    "aggregations = {\n",
    "    'math_score': ['max', 'min', 'mean', 'median'],\n",
    "    'reading_score': ['max', 'min', 'mean', 'median'],\n",
    "    'writing_score': ['max', 'min', 'mean', 'median']\n",
    "}\n",
    "\n",
    "# Apply the aggregations\n",
    "summary_stats = data.groupby(\"test_prep_course\").agg(aggregations)\n",
    "\n",
    "print(summary_stats)"
   ]
  },
  {
   "cell_type": "code",
   "execution_count": null,
   "metadata": {},
   "outputs": [],
   "source": []
  },
  {
   "cell_type": "code",
   "execution_count": null,
   "metadata": {},
   "outputs": [],
   "source": []
  }
 ],
 "metadata": {
  "kernelspec": {
   "display_name": "Python 3",
   "language": "python",
   "name": "python3"
  },
  "language_info": {
   "codemirror_mode": {
    "name": "ipython",
    "version": 3
   },
   "file_extension": ".py",
   "mimetype": "text/x-python",
   "name": "python",
   "nbconvert_exporter": "python",
   "pygments_lexer": "ipython3",
   "version": "3.12.3"
  }
 },
 "nbformat": 4,
 "nbformat_minor": 2
}
